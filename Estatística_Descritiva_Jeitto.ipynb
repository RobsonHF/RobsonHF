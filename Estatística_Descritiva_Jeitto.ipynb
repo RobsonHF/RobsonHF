{
  "nbformat": 4,
  "nbformat_minor": 0,
  "metadata": {
    "colab": {
      "name": "Estatística Descritiva - Jeitto",
      "provenance": [],
      "authorship_tag": "ABX9TyMSR2vdCrpr5lArRwQ2TJmt",
      "include_colab_link": true
    },
    "kernelspec": {
      "name": "python3",
      "display_name": "Python 3"
    }
  },
  "cells": [
    {
      "cell_type": "markdown",
      "metadata": {
        "id": "view-in-github",
        "colab_type": "text"
      },
      "source": [
        "<a href=\"https://colab.research.google.com/github/Robssauro/RobsonHF/blob/master/Estat%C3%ADstica_Descritiva_Jeitto.ipynb\" target=\"_parent\"><img src=\"https://colab.research.google.com/assets/colab-badge.svg\" alt=\"Open In Colab\"/></a>"
      ]
    },
    {
      "cell_type": "code",
      "metadata": {
        "id": "Cb5BHKUMk5z-",
        "colab_type": "code",
        "colab": {
          "base_uri": "https://localhost:8080/",
          "height": 221
        },
        "outputId": "f3de382c-09be-4f6c-e64f-09484fe4d613"
      },
      "source": [
        "import pandas as pd\n",
        "dados = pd.read_csv ('olympics_statistics.csv')\n",
        "Total_Winter = dados.Total_Winter\n",
        "Total_Winter.sort_values"
      ],
      "execution_count": 17,
      "outputs": [
        {
          "output_type": "execute_result",
          "data": {
            "text/plain": [
              "<bound method Series.sort_values of 0      0\n",
              "1      0\n",
              "2      0\n",
              "3      0\n",
              "4      0\n",
              "      ..\n",
              "141    4\n",
              "142    0\n",
              "143    0\n",
              "144    0\n",
              "145    0\n",
              "Name: Total_Winter, Length: 146, dtype: int64>"
            ]
          },
          "metadata": {
            "tags": []
          },
          "execution_count": 17
        }
      ]
    },
    {
      "cell_type": "code",
      "metadata": {
        "id": "wz6FCkrswh5g",
        "colab_type": "code",
        "colab": {}
      },
      "source": [
        ""
      ],
      "execution_count": 0,
      "outputs": []
    }
  ]
}
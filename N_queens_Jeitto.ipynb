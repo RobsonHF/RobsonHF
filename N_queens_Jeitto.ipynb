{
  "nbformat": 4,
  "nbformat_minor": 0,
  "metadata": {
    "colab": {
      "name": "N-queens - Jeitto",
      "provenance": [],
      "authorship_tag": "ABX9TyPH2+iIYDtocUhDvoldoGfm",
      "include_colab_link": true
    },
    "kernelspec": {
      "name": "python3",
      "display_name": "Python 3"
    }
  },
  "cells": [
    {
      "cell_type": "markdown",
      "metadata": {
        "id": "view-in-github",
        "colab_type": "text"
      },
      "source": [
        "<a href=\"https://colab.research.google.com/github/Robssauro/RobsonHF/blob/master/N_queens_Jeitto.ipynb\" target=\"_parent\"><img src=\"https://colab.research.google.com/assets/colab-badge.svg\" alt=\"Open In Colab\"/></a>"
      ]
    },
    {
      "cell_type": "code",
      "metadata": {
        "id": "d-KzxmmJ55ZE",
        "colab_type": "code",
        "colab": {
          "base_uri": "https://localhost:8080/",
          "height": 170
        },
        "outputId": "ed82cab7-7566-48bd-cbf8-8c02a8a68acb"
      },
      "source": [
        "tabuleiro = [0,0,0,0,0,0,0,0]\n",
        "n = input('coloque um número de rainhas maior ou igual a 4: ')\n",
        "coloca_rainha(tabuleiro, 0, n)\n",
        "\n"
      ],
      "execution_count": 26,
      "outputs": [
        {
          "output_type": "stream",
          "text": [
            "coloque o número de rainhas: 4\n",
            "0\n",
            "0\n",
            "0\n",
            "0\n",
            "0\n",
            "0\n",
            "0\n",
            "0\n"
          ],
          "name": "stdout"
        }
      ]
    },
    {
      "cell_type": "code",
      "metadata": {
        "id": "ukrzFPGJLQ2M",
        "colab_type": "code",
        "colab": {}
      },
      "source": [
        "def coloca_rainha(tabuleiro, posicao, nRainhas):\n",
        "  if nRainhas != 0:\n",
        "    for posicao in tabuleiro:\n",
        "      if posicao==0:\n",
        "        for \n",
        "       \n",
        "  print ()\n",
        "       \n",
        "       \n",
        "       print (posicao)\n"
      ],
      "execution_count": 0,
      "outputs": []
    },
    {
      "cell_type": "code",
      "metadata": {
        "id": "b87YsTvBKfVt",
        "colab_type": "code",
        "colab": {}
      },
      "source": [
        "print (tabuleiro)"
      ],
      "execution_count": 0,
      "outputs": []
    }
  ]
}